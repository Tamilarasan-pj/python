{
 "cells": [
  {
   "cell_type": "code",
   "execution_count": null,
   "id": "4cbb6fc2",
   "metadata": {},
   "outputs": [],
   "source": [
    "type1"
   ]
  },
  {
   "cell_type": "code",
   "execution_count": 4,
   "id": "95423967",
   "metadata": {},
   "outputs": [],
   "source": [
    "class student:\n",
    "    def __init__(self,name,city,age):\n",
    "        self.name=name\n",
    "        self.city=city\n",
    "        self.age=age\n",
    "    def display(self):\n",
    "        print(\"name=\",self.name)\n",
    "        print(\"city=\",self.city)\n",
    "        print(\"age=\",self.age)"
   ]
  },
  {
   "cell_type": "code",
   "execution_count": 5,
   "id": "5c7f148c",
   "metadata": {},
   "outputs": [],
   "source": [
    "s=student(\"tamil\",\"namakkal\",23)"
   ]
  },
  {
   "cell_type": "code",
   "execution_count": 6,
   "id": "032418f9",
   "metadata": {},
   "outputs": [
    {
     "name": "stdout",
     "output_type": "stream",
     "text": [
      "name= tamil\n",
      "city= namakkal\n",
      "age= 23\n"
     ]
    }
   ],
   "source": [
    "s.display()"
   ]
  },
  {
   "cell_type": "code",
   "execution_count": null,
   "id": "a887b757",
   "metadata": {},
   "outputs": [],
   "source": [
    "type2"
   ]
  },
  {
   "cell_type": "code",
   "execution_count": 13,
   "id": "e5ecfb20",
   "metadata": {},
   "outputs": [],
   "source": [
    "class student:\n",
    "    def __init__(self,name,city,age):\n",
    "        self.name=name\n",
    "        self.city=city\n",
    "        self.age=age\n",
    "    def display(self):\n",
    "        print(\"name=%s\"%self.name)\n",
    "        print(\"city=%s\"%self.city)\n",
    "        print(\"age=%d\"%self.age)"
   ]
  },
  {
   "cell_type": "code",
   "execution_count": 14,
   "id": "c00b4b78",
   "metadata": {},
   "outputs": [],
   "source": [
    "s=student(\"kavin\",\"salem\",23)"
   ]
  },
  {
   "cell_type": "code",
   "execution_count": 15,
   "id": "c8694778",
   "metadata": {},
   "outputs": [
    {
     "name": "stdout",
     "output_type": "stream",
     "text": [
      "name=kavin\n",
      "city=salem\n",
      "age=23\n"
     ]
    }
   ],
   "source": [
    "s.display()"
   ]
  },
  {
   "cell_type": "code",
   "execution_count": null,
   "id": "a1d59f5c",
   "metadata": {},
   "outputs": [],
   "source": [
    "type3"
   ]
  },
  {
   "cell_type": "code",
   "execution_count": 16,
   "id": "0cd97f14",
   "metadata": {},
   "outputs": [],
   "source": [
    "class student:\n",
    "    def __init__(self,name,city,age):\n",
    "        self.name=name\n",
    "        self.city=city\n",
    "        self.age=age\n",
    "    def display(self):\n",
    "        print(\"name={}\".format(self.name))\n",
    "        print(\"city={}\".format(self.city))\n",
    "        print(\"age={}\".format(self.age))"
   ]
  },
  {
   "cell_type": "code",
   "execution_count": 17,
   "id": "8baee336",
   "metadata": {},
   "outputs": [],
   "source": [
    "s=student(\"selvam\",\"covai\",23)"
   ]
  },
  {
   "cell_type": "code",
   "execution_count": 18,
   "id": "10640812",
   "metadata": {},
   "outputs": [
    {
     "name": "stdout",
     "output_type": "stream",
     "text": [
      "name=selvam\n",
      "city=covai\n",
      "age=23\n"
     ]
    }
   ],
   "source": [
    "s.display()"
   ]
  },
  {
   "cell_type": "code",
   "execution_count": null,
   "id": "28b0fb9c",
   "metadata": {},
   "outputs": [],
   "source": [
    "type3"
   ]
  },
  {
   "cell_type": "code",
   "execution_count": 19,
   "id": "ad4fffe2",
   "metadata": {},
   "outputs": [],
   "source": [
    "class student:\n",
    "    def __init__(self,name,city,age):\n",
    "        self.name=name\n",
    "        self.city=city\n",
    "        self.age=age\n",
    "    def display(self):\n",
    "        print(\"name={self.name}\")\n",
    "        print(\"city={self.city}\")\n",
    "        print(\"age={self.age}\")"
   ]
  },
  {
   "cell_type": "code",
   "execution_count": 21,
   "id": "f7723b11",
   "metadata": {},
   "outputs": [],
   "source": [
    "s=student(\"malar\",\"namakkal\",23)"
   ]
  },
  {
   "cell_type": "code",
   "execution_count": 22,
   "id": "e7f82aea",
   "metadata": {},
   "outputs": [
    {
     "name": "stdout",
     "output_type": "stream",
     "text": [
      "name={self.name}\n",
      "city={self.city}\n",
      "age={self.age}\n"
     ]
    }
   ],
   "source": [
    "s.display()"
   ]
  },
  {
   "cell_type": "code",
   "execution_count": null,
   "id": "357b731a",
   "metadata": {},
   "outputs": [],
   "source": [
    "#now we use fstring method"
   ]
  },
  {
   "cell_type": "code",
   "execution_count": 23,
   "id": "7ba3e864",
   "metadata": {},
   "outputs": [],
   "source": [
    "class student:\n",
    "    def __init__(self,name,city,age):\n",
    "        self.name=name\n",
    "        self.city=city\n",
    "        self.age=age\n",
    "    def display(self):\n",
    "        print(f\"name={self.name}\")\n",
    "        print(f\"city={self.city}\")\n",
    "        print(f\"age={self.age}\")"
   ]
  },
  {
   "cell_type": "code",
   "execution_count": 26,
   "id": "162999d3",
   "metadata": {},
   "outputs": [],
   "source": [
    "s=student(\"vijay\",\"kerala\",23)"
   ]
  },
  {
   "cell_type": "code",
   "execution_count": 27,
   "id": "8c3603d7",
   "metadata": {},
   "outputs": [
    {
     "name": "stdout",
     "output_type": "stream",
     "text": [
      "name=vijay\n",
      "city=kerala\n",
      "age=23\n"
     ]
    }
   ],
   "source": [
    "s.display()"
   ]
  },
  {
   "cell_type": "code",
   "execution_count": null,
   "id": "6d71829d",
   "metadata": {},
   "outputs": [],
   "source": [
    "#in this method we add values[ex:in age+2]"
   ]
  },
  {
   "cell_type": "code",
   "execution_count": 28,
   "id": "6423cfa1",
   "metadata": {},
   "outputs": [],
   "source": [
    "class student:\n",
    "    def __init__(self,name,city,age):\n",
    "        self.name=name\n",
    "        self.city=city\n",
    "        self.age=age\n",
    "    def display(self):\n",
    "        print(f\"name={self.name}\")\n",
    "        print(f\"city={self.city}\")\n",
    "        print(f\"age={self.age+2}\")"
   ]
  },
  {
   "cell_type": "code",
   "execution_count": 29,
   "id": "f9bc0da8",
   "metadata": {},
   "outputs": [],
   "source": [
    "s=student(\"kaali\",\"mumbai\",22)"
   ]
  },
  {
   "cell_type": "code",
   "execution_count": 30,
   "id": "9d817439",
   "metadata": {},
   "outputs": [
    {
     "name": "stdout",
     "output_type": "stream",
     "text": [
      "name=kaali\n",
      "city=mumbai\n",
      "age=24\n"
     ]
    }
   ],
   "source": [
    "s.display()"
   ]
  }
 ],
 "metadata": {
  "kernelspec": {
   "display_name": "Python 3 (ipykernel)",
   "language": "python",
   "name": "python3"
  },
  "language_info": {
   "codemirror_mode": {
    "name": "ipython",
    "version": 3
   },
   "file_extension": ".py",
   "mimetype": "text/x-python",
   "name": "python",
   "nbconvert_exporter": "python",
   "pygments_lexer": "ipython3",
   "version": "3.11.4"
  }
 },
 "nbformat": 4,
 "nbformat_minor": 5
}
